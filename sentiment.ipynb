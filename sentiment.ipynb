{
 "cells": [
  {
   "cell_type": "code",
   "execution_count": 1,
   "metadata": {},
   "outputs": [
    {
     "data": {
      "text/html": [
       "<pre style=\"white-space:pre;overflow-x:auto;line-height:normal;font-family:Menlo,'DejaVu Sans Mono',consolas,'Courier New',monospace\">16:19:50.896 | <span style=\"color: #008080; text-decoration-color: #008080\">INFO</span>    | prefect.engine - Created flow run<span style=\"color: #800080; text-decoration-color: #800080\"> 'loyal-caracara'</span> for flow<span style=\"color: #800080; text-decoration-color: #800080; font-weight: bold\"> 'sentiment-analysis-flow'</span>\n",
       "</pre>\n"
      ],
      "text/plain": [
       "16:19:50.896 | \u001b[36mINFO\u001b[0m    | prefect.engine - Created flow run\u001b[35m 'loyal-caracara'\u001b[0m for flow\u001b[1;35m 'sentiment-analysis-flow'\u001b[0m\n"
      ]
     },
     "metadata": {},
     "output_type": "display_data"
    },
    {
     "data": {
      "text/html": [
       "<pre style=\"white-space:pre;overflow-x:auto;line-height:normal;font-family:Menlo,'DejaVu Sans Mono',consolas,'Courier New',monospace\">16:19:51.131 | <span style=\"color: #008080; text-decoration-color: #008080\">INFO</span>    | Flow run<span style=\"color: #800080; text-decoration-color: #800080\"> 'loyal-caracara'</span> - Created task run 'load_data-0' for task 'load_data'\n",
       "</pre>\n"
      ],
      "text/plain": [
       "16:19:51.131 | \u001b[36mINFO\u001b[0m    | Flow run\u001b[35m 'loyal-caracara'\u001b[0m - Created task run 'load_data-0' for task 'load_data'\n"
      ]
     },
     "metadata": {},
     "output_type": "display_data"
    },
    {
     "data": {
      "text/html": [
       "<pre style=\"white-space:pre;overflow-x:auto;line-height:normal;font-family:Menlo,'DejaVu Sans Mono',consolas,'Courier New',monospace\">16:19:51.136 | <span style=\"color: #008080; text-decoration-color: #008080\">INFO</span>    | Flow run<span style=\"color: #800080; text-decoration-color: #800080\"> 'loyal-caracara'</span> - Executing 'load_data-0' immediately...\n",
       "</pre>\n"
      ],
      "text/plain": [
       "16:19:51.136 | \u001b[36mINFO\u001b[0m    | Flow run\u001b[35m 'loyal-caracara'\u001b[0m - Executing 'load_data-0' immediately...\n"
      ]
     },
     "metadata": {},
     "output_type": "display_data"
    },
    {
     "data": {
      "text/html": [
       "<pre style=\"white-space:pre;overflow-x:auto;line-height:normal;font-family:Menlo,'DejaVu Sans Mono',consolas,'Courier New',monospace\">16:19:51.436 | <span style=\"color: #008080; text-decoration-color: #008080\">INFO</span>    | Task run 'load_data-0' - Finished in state <span style=\"color: #008000; text-decoration-color: #008000\">Completed</span>()\n",
       "</pre>\n"
      ],
      "text/plain": [
       "16:19:51.436 | \u001b[36mINFO\u001b[0m    | Task run 'load_data-0' - Finished in state \u001b[32mCompleted\u001b[0m()\n"
      ]
     },
     "metadata": {},
     "output_type": "display_data"
    },
    {
     "data": {
      "text/html": [
       "<pre style=\"white-space:pre;overflow-x:auto;line-height:normal;font-family:Menlo,'DejaVu Sans Mono',consolas,'Courier New',monospace\">16:19:51.520 | <span style=\"color: #008080; text-decoration-color: #008080\">INFO</span>    | Flow run<span style=\"color: #800080; text-decoration-color: #800080\"> 'loyal-caracara'</span> - Created task run 'preprocess_data-0' for task 'preprocess_data'\n",
       "</pre>\n"
      ],
      "text/plain": [
       "16:19:51.520 | \u001b[36mINFO\u001b[0m    | Flow run\u001b[35m 'loyal-caracara'\u001b[0m - Created task run 'preprocess_data-0' for task 'preprocess_data'\n"
      ]
     },
     "metadata": {},
     "output_type": "display_data"
    },
    {
     "data": {
      "text/html": [
       "<pre style=\"white-space:pre;overflow-x:auto;line-height:normal;font-family:Menlo,'DejaVu Sans Mono',consolas,'Courier New',monospace\">16:19:51.523 | <span style=\"color: #008080; text-decoration-color: #008080\">INFO</span>    | Flow run<span style=\"color: #800080; text-decoration-color: #800080\"> 'loyal-caracara'</span> - Executing 'preprocess_data-0' immediately...\n",
       "</pre>\n"
      ],
      "text/plain": [
       "16:19:51.523 | \u001b[36mINFO\u001b[0m    | Flow run\u001b[35m 'loyal-caracara'\u001b[0m - Executing 'preprocess_data-0' immediately...\n"
      ]
     },
     "metadata": {},
     "output_type": "display_data"
    },
    {
     "data": {
      "text/html": [
       "<pre style=\"white-space:pre;overflow-x:auto;line-height:normal;font-family:Menlo,'DejaVu Sans Mono',consolas,'Courier New',monospace\">16:19:51.991 | <span style=\"color: #008080; text-decoration-color: #008080\">INFO</span>    | Task run 'preprocess_data-0' - Finished in state <span style=\"color: #008000; text-decoration-color: #008000\">Completed</span>()\n",
       "</pre>\n"
      ],
      "text/plain": [
       "16:19:51.991 | \u001b[36mINFO\u001b[0m    | Task run 'preprocess_data-0' - Finished in state \u001b[32mCompleted\u001b[0m()\n"
      ]
     },
     "metadata": {},
     "output_type": "display_data"
    },
    {
     "data": {
      "text/html": [
       "<pre style=\"white-space:pre;overflow-x:auto;line-height:normal;font-family:Menlo,'DejaVu Sans Mono',consolas,'Courier New',monospace\">16:19:52.076 | <span style=\"color: #008080; text-decoration-color: #008080\">INFO</span>    | Flow run<span style=\"color: #800080; text-decoration-color: #800080\"> 'loyal-caracara'</span> - Created task run 'split_data-0' for task 'split_data'\n",
       "</pre>\n"
      ],
      "text/plain": [
       "16:19:52.076 | \u001b[36mINFO\u001b[0m    | Flow run\u001b[35m 'loyal-caracara'\u001b[0m - Created task run 'split_data-0' for task 'split_data'\n"
      ]
     },
     "metadata": {},
     "output_type": "display_data"
    },
    {
     "data": {
      "text/html": [
       "<pre style=\"white-space:pre;overflow-x:auto;line-height:normal;font-family:Menlo,'DejaVu Sans Mono',consolas,'Courier New',monospace\">16:19:52.080 | <span style=\"color: #008080; text-decoration-color: #008080\">INFO</span>    | Flow run<span style=\"color: #800080; text-decoration-color: #800080\"> 'loyal-caracara'</span> - Executing 'split_data-0' immediately...\n",
       "</pre>\n"
      ],
      "text/plain": [
       "16:19:52.080 | \u001b[36mINFO\u001b[0m    | Flow run\u001b[35m 'loyal-caracara'\u001b[0m - Executing 'split_data-0' immediately...\n"
      ]
     },
     "metadata": {},
     "output_type": "display_data"
    },
    {
     "data": {
      "text/html": [
       "<pre style=\"white-space:pre;overflow-x:auto;line-height:normal;font-family:Menlo,'DejaVu Sans Mono',consolas,'Courier New',monospace\">16:19:52.301 | <span style=\"color: #008080; text-decoration-color: #008080\">INFO</span>    | Task run 'split_data-0' - Finished in state <span style=\"color: #008000; text-decoration-color: #008000\">Completed</span>()\n",
       "</pre>\n"
      ],
      "text/plain": [
       "16:19:52.301 | \u001b[36mINFO\u001b[0m    | Task run 'split_data-0' - Finished in state \u001b[32mCompleted\u001b[0m()\n"
      ]
     },
     "metadata": {},
     "output_type": "display_data"
    },
    {
     "data": {
      "text/html": [
       "<pre style=\"white-space:pre;overflow-x:auto;line-height:normal;font-family:Menlo,'DejaVu Sans Mono',consolas,'Courier New',monospace\">16:19:52.383 | <span style=\"color: #008080; text-decoration-color: #008080\">INFO</span>    | Flow run<span style=\"color: #800080; text-decoration-color: #800080\"> 'loyal-caracara'</span> - Created task run 'train_model-0' for task 'train_model'\n",
       "</pre>\n"
      ],
      "text/plain": [
       "16:19:52.383 | \u001b[36mINFO\u001b[0m    | Flow run\u001b[35m 'loyal-caracara'\u001b[0m - Created task run 'train_model-0' for task 'train_model'\n"
      ]
     },
     "metadata": {},
     "output_type": "display_data"
    },
    {
     "data": {
      "text/html": [
       "<pre style=\"white-space:pre;overflow-x:auto;line-height:normal;font-family:Menlo,'DejaVu Sans Mono',consolas,'Courier New',monospace\">16:19:52.387 | <span style=\"color: #008080; text-decoration-color: #008080\">INFO</span>    | Flow run<span style=\"color: #800080; text-decoration-color: #800080\"> 'loyal-caracara'</span> - Executing 'train_model-0' immediately...\n",
       "</pre>\n"
      ],
      "text/plain": [
       "16:19:52.387 | \u001b[36mINFO\u001b[0m    | Flow run\u001b[35m 'loyal-caracara'\u001b[0m - Executing 'train_model-0' immediately...\n"
      ]
     },
     "metadata": {},
     "output_type": "display_data"
    },
    {
     "data": {
      "text/html": [
       "<pre style=\"white-space:pre;overflow-x:auto;line-height:normal;font-family:Menlo,'DejaVu Sans Mono',consolas,'Courier New',monospace\">16:19:54.099 | <span style=\"color: #008080; text-decoration-color: #008080\">INFO</span>    | Task run 'train_model-0' - Finished in state <span style=\"color: #008000; text-decoration-color: #008000\">Completed</span>()\n",
       "</pre>\n"
      ],
      "text/plain": [
       "16:19:54.099 | \u001b[36mINFO\u001b[0m    | Task run 'train_model-0' - Finished in state \u001b[32mCompleted\u001b[0m()\n"
      ]
     },
     "metadata": {},
     "output_type": "display_data"
    },
    {
     "data": {
      "text/html": [
       "<pre style=\"white-space:pre;overflow-x:auto;line-height:normal;font-family:Menlo,'DejaVu Sans Mono',consolas,'Courier New',monospace\">16:19:54.204 | <span style=\"color: #008080; text-decoration-color: #008080\">INFO</span>    | Flow run<span style=\"color: #800080; text-decoration-color: #800080\"> 'loyal-caracara'</span> - Finished in state <span style=\"color: #008000; text-decoration-color: #008000\">Completed</span>('All states completed.')\n",
       "</pre>\n"
      ],
      "text/plain": [
       "16:19:54.204 | \u001b[36mINFO\u001b[0m    | Flow run\u001b[35m 'loyal-caracara'\u001b[0m - Finished in state \u001b[32mCompleted\u001b[0m('All states completed.')\n"
      ]
     },
     "metadata": {},
     "output_type": "display_data"
    }
   ],
   "source": [
    "import pandas as pd\n",
    "from sklearn.model_selection import train_test_split\n",
    "from sklearn.feature_extraction.text import CountVectorizer\n",
    "from sklearn.linear_model import LogisticRegression\n",
    "from sklearn.metrics import classification_report, confusion_matrix, accuracy_score\n",
    "import matplotlib.pyplot as plt\n",
    "import joblib\n",
    "import mlflow\n",
    "from prefect import task, flow\n",
    "\n",
    "\n",
    "mlflow.start_run(run_name=\"Sentiment Analysis Model Training\")\n",
    "\n",
    "@task\n",
    "def load_data():\n",
    "    return pd.read_csv(\"./reviews_badminton/data.csv\")\n",
    "\n",
    "@task\n",
    "def preprocess_data(data):\n",
    "    data.dropna(subset=['Review text', 'Ratings'], inplace=True)\n",
    "    data['Sentiment'] = data['Ratings'].apply(lambda x: 1 if x >= 3 else 0)\n",
    "    return data\n",
    "\n",
    "@task\n",
    "def split_data(data):\n",
    "    X_train, X_test, y_train, y_test = train_test_split(data['Review text'], data['Sentiment'], test_size=0.2, random_state=42)\n",
    "    return X_train, X_test, y_train, y_test\n",
    "\n",
    "@task\n",
    "def train_model(X_train, X_test, y_train, y_test):\n",
    "    cv = CountVectorizer(max_features=100)\n",
    "    X_train_cv = cv.fit_transform(X_train)\n",
    "    X_test_cv = cv.transform(X_test)\n",
    "\n",
    "    model = LogisticRegression()\n",
    "    model.fit(X_train_cv, y_train)\n",
    "\n",
    "    y_pred = model.predict(X_test_cv)\n",
    "\n",
    "    mlflow.log_param(\"max_features\", 100)\n",
    "\n",
    "    mlflow.log_metric(\"accuracy\", accuracy_score(y_test, y_pred))\n",
    "\n",
    "    conf_matrix_fig = plt.figure(figsize=(6, 4))\n",
    "    plt.imshow(confusion_matrix(y_test, y_pred), cmap='Blues', interpolation='nearest')\n",
    "    plt.colorbar()\n",
    "    plt.xlabel('Predicted Label')\n",
    "    plt.ylabel('True Label')\n",
    "    plt.title('Confusion Matrix')\n",
    "    plt.tight_layout()\n",
    "    conf_matrix_path = \"confusion_matrix.png\"\n",
    "    plt.savefig(conf_matrix_path)\n",
    "    plt.close(conf_matrix_fig)\n",
    "    mlflow.log_artifact(conf_matrix_path)\n",
    "\n",
    "    class_report_text = classification_report(y_test, y_pred)\n",
    "    with open(\"classification_report.txt\", \"w\") as f:\n",
    "        f.write(class_report_text)\n",
    "    mlflow.log_artifact(\"classification_report.txt\")\n",
    "\n",
    "    feature_names = cv.get_feature_names_out()\n",
    "    word_freq = dict(zip(feature_names, X_train_cv.sum(axis=0).tolist()[0]))\n",
    "    sorted_word_freq = sorted(word_freq.items(), key=lambda x: x[1], reverse=True)[:20]\n",
    "\n",
    "    plt.figure(figsize=(10, 6))\n",
    "    plt.barh([word[0] for word in sorted_word_freq], [word[1] for word in sorted_word_freq], color='salmon')\n",
    "    plt.title('Top 20 Most Common Words in Reviews')\n",
    "    plt.xlabel('Frequency')\n",
    "    plt.ylabel('Words')\n",
    "    plt.gca().invert_yaxis()\n",
    "    plt.tight_layout()\n",
    "    top_words_path = \"top_words_plot.png\"\n",
    "    plt.savefig(top_words_path)\n",
    "    plt.close()\n",
    "    mlflow.log_artifact(top_words_path)\n",
    "\n",
    "    model_path = \"model.pkl\"\n",
    "    joblib.dump(model, model_path)\n",
    "    mlflow.log_artifact(\"model.pkl\")\n",
    "\n",
    "    joblib.dump(cv.vocabulary_, \"vocabulary.pkl\")\n",
    "    mlflow.log_artifact(\"vocabulary.pkl\")\n",
    "\n",
    "@flow\n",
    "def sentiment_analysis_flow():\n",
    "    data = load_data()\n",
    "    preprocessed_data = preprocess_data(data)\n",
    "    X_train, X_test, y_train, y_test = split_data(preprocessed_data)\n",
    "    train_model(X_train, X_test, y_train, y_test)\n",
    "\n",
    "mlflow.end_run()\n",
    "\n",
    "\n",
    "if __name__ == \"__main__\":\n",
    "    sentiment_analysis_flow()"
   ]
  }
 ],
 "metadata": {
  "kernelspec": {
   "display_name": "Python 3",
   "language": "python",
   "name": "python3"
  },
  "language_info": {
   "codemirror_mode": {
    "name": "ipython",
    "version": 3
   },
   "file_extension": ".py",
   "mimetype": "text/x-python",
   "name": "python",
   "nbconvert_exporter": "python",
   "pygments_lexer": "ipython3",
   "version": "3.11.5"
  }
 },
 "nbformat": 4,
 "nbformat_minor": 2
}
